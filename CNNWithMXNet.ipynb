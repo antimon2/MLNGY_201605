{
 "cells": [
  {
   "cell_type": "markdown",
   "metadata": {
    "slideshow": {
     "slide_type": "slide"
    }
   },
   "source": [
    "# MXNet で CNN<br><small>Jupyter でライブ手書き文字認識</small>"
   ]
  },
  {
   "cell_type": "markdown",
   "metadata": {},
   "source": [
    "<p style=\"text-align:center;font-size:150%;line-height:150%\">2016/05/21 機械学習 名古屋 第4回勉強会<br>後藤 俊介 ( @antimon2 )</p>"
   ]
  },
  {
   "cell_type": "markdown",
   "metadata": {
    "slideshow": {
     "slide_type": "slide"
    }
   },
   "source": [
    "## 自己紹介"
   ]
  },
  {
   "cell_type": "markdown",
   "metadata": {},
   "source": [
    "+ 名前：後藤 俊介\n",
    "+ 所属コミュニティ：**機械学習名古屋**（主催者の1人）、Python東海、Ruby東海\n",
    "+ 言語：**Julia**, Python, Ruby, JavaScript, …\n",
    "+ twitter: [@antimon2](https://twitter.com/antimon2 \"あんちもん2(@antimon2)さん | Twitter\")\n",
    "+ Facebook: [antimon2](https://www.facebook.com/antimon2 \"後藤 俊介\")\n",
    "+ GitHub: [antimon2](https://github.com/antimon2/ \"antimon2 (GOTOH Shunsuke)\")"
   ]
  },
  {
   "cell_type": "markdown",
   "metadata": {
    "slideshow": {
     "slide_type": "slide"
    }
   },
   "source": [
    "## MXNet とは？"
   ]
  },
  {
   "cell_type": "markdown",
   "metadata": {},
   "source": [
    "+ [dmlc mxnet](https://github.com/dmlc/mxnet)（[MXNet.jl](https://github.com/dmlc/MXNet.jl)）\n",
    "+ 2015/10 に出たばかりの新しいフレームワーク。\n",
    "+ [Julia](http://julialang.org/), Python, R, Go, JavaScript などに対応した DeepLearning フレームワーク。\n",
    "+ 記述の簡潔さと、（それに伴う）「効率」と「柔軟性」の両立。\n",
    "+ 処理のコア部分は C(C++) で記述されている（それにより軽量性と多言語対応を実現している）。"
   ]
  },
  {
   "cell_type": "markdown",
   "metadata": {
    "slideshow": {
     "slide_type": "notes"
    }
   },
   "source": [
    "※ 今回はデモのため、Julia での利用方法を示す。  \n",
    "※ インストール等の詳細は今回は割愛。"
   ]
  },
  {
   "cell_type": "markdown",
   "metadata": {
    "slideshow": {
     "slide_type": "slide"
    }
   },
   "source": [
    "## MXNet で CNN 構築"
   ]
  },
  {
   "cell_type": "markdown",
   "metadata": {
    "slideshow": {
     "slide_type": "subslide"
    }
   },
   "source": [
    "### 準備"
   ]
  },
  {
   "cell_type": "code",
   "execution_count": 1,
   "metadata": {
    "collapsed": false,
    "slideshow": {
     "slide_type": "-"
    }
   },
   "outputs": [],
   "source": [
    "using MXNet"
   ]
  },
  {
   "cell_type": "markdown",
   "metadata": {
    "slideshow": {
     "slide_type": "subslide"
    }
   },
   "source": [
    "### CNN構築1\n",
    "\n",
    "入力〜2つの畳み込み層："
   ]
  },
  {
   "cell_type": "code",
   "execution_count": 2,
   "metadata": {
    "collapsed": false
   },
   "outputs": [
    {
     "data": {
      "text/plain": [
       "MXNet.mx.SymbolicNode(MXNet.mx.MX_SymbolHandle(Ptr{Void} @0x00007fd9142503b0))"
      ]
     },
     "execution_count": 2,
     "metadata": {},
     "output_type": "execute_result"
    }
   ],
   "source": [
    "# input\n",
    "data = mx.Variable(:data)\n",
    "\n",
    "# first conv\n",
    "conv1 = @mx.chain mx.Convolution(data=data, kernel=(5,5), num_filter=32)  =>\n",
    "                  mx.Activation(act_type=:relu) =>\n",
    "                  mx.Pooling(pool_type=:max, kernel=(2,2), stride=(2,2))\n",
    "\n",
    "# second conv\n",
    "conv2 = @mx.chain mx.Convolution(data=conv1, kernel=(5,5), num_filter=64) =>\n",
    "                  mx.Activation(act_type=:relu) =>\n",
    "                  mx.Pooling(pool_type=:max, kernel=(2,2), stride=(2,2))"
   ]
  },
  {
   "cell_type": "markdown",
   "metadata": {
    "slideshow": {
     "slide_type": "subslide"
    }
   },
   "source": [
    "### CNN構築2\n",
    "\n",
    "全結合層・ドロップアウト・出力層："
   ]
  },
  {
   "cell_type": "code",
   "execution_count": 3,
   "metadata": {
    "collapsed": false,
    "slideshow": {
     "slide_type": "-"
    }
   },
   "outputs": [
    {
     "data": {
      "text/plain": [
       "MXNet.mx.SymbolicNode(MXNet.mx.MX_SymbolHandle(Ptr{Void} @0x00007fd913e5e3f0))"
      ]
     },
     "execution_count": 3,
     "metadata": {},
     "output_type": "execute_result"
    }
   ],
   "source": [
    "# first fully-connected\n",
    "fc1   = @mx.chain mx.Flatten(data=conv2) =>\n",
    "                  mx.FullyConnected(num_hidden=1024) =>\n",
    "                  mx.Activation(act_type=:relu)\n",
    "\n",
    "# dropout\n",
    "dp_fc1 = mx.Dropout(fc1, p=0.5)\n",
    "\n",
    "# second fully-connected\n",
    "fc2   = mx.FullyConnected(data=dp_fc1, num_hidden=10)\n",
    "\n",
    "# softmax loss\n",
    "cnn = mx.SoftmaxOutput(data=fc2, name=:softmax)"
   ]
  },
  {
   "cell_type": "markdown",
   "metadata": {
    "slideshow": {
     "slide_type": "subslide"
    }
   },
   "source": [
    "### MNIST データ取得"
   ]
  },
  {
   "cell_type": "code",
   "execution_count": 4,
   "metadata": {
    "collapsed": false,
    "slideshow": {
     "slide_type": "-"
    }
   },
   "outputs": [
    {
     "data": {
      "text/plain": [
       "MXNet.mx.MXDataProvider(MXNet.mx.MX_DataIterHandle(Ptr{Void} @0x00007fd913e78f60),Tuple{Symbol,Tuple}[(:data,(28,28,1,100))],Tuple{Symbol,Tuple}[(:softmax_label,(100,))],100,true,true)"
      ]
     },
     "execution_count": 4,
     "metadata": {},
     "output_type": "execute_result"
    }
   ],
   "source": [
    "# データ取得（データプロバイダ生成）\n",
    "batch_size = 100\n",
    "# include(Pkg.dir(\"MXNet\", \"examples\", \"mnist\", \"mnist-data.jl\"))\n",
    "# train_provider, eval_provider = get_mnist_providers(batch_size)\n",
    "data_name = :data\n",
    "label_name = :softmax_label\n",
    "flat = false\n",
    "train_provider = mx.MNISTProvider(image=\"MNIST_data/train-images-idx3-ubyte\",\n",
    "                                  label=\"MNIST_data/train-labels-idx1-ubyte\",\n",
    "                                  data_name=data_name, label_name=label_name,\n",
    "                                  batch_size=batch_size, shuffle=true, flat=flat, silent=true)\n",
    "eval_provider = mx.MNISTProvider(image=\"MNIST_data/t10k-images-idx3-ubyte\",\n",
    "                                 label=\"MNIST_data/t10k-labels-idx1-ubyte\",\n",
    "                                 data_name=data_name, label_name=label_name,\n",
    "                                 batch_size=batch_size, shuffle=false, flat=flat, silent=true)\n"
   ]
  },
  {
   "cell_type": "markdown",
   "metadata": {
    "slideshow": {
     "slide_type": "subslide"
    }
   },
   "source": [
    "### モデル構築・最適化（準備）"
   ]
  },
  {
   "cell_type": "code",
   "execution_count": 5,
   "metadata": {
    "collapsed": false,
    "slideshow": {
     "slide_type": "subslide"
    }
   },
   "outputs": [
    {
     "data": {
      "text/plain": [
       "MXNet.mx.EpochCallback(1,false,(anonymous function))"
      ]
     },
     "execution_count": 5,
     "metadata": {},
     "output_type": "execute_result"
    }
   ],
   "source": [
    "# モデル setup\n",
    "model = mx.FeedForward(cnn, context=mx.cpu())\n",
    "\n",
    "# optimization algorithm\n",
    "optimizer = mx.SGD(lr=0.05, momentum=0.9, weight_decay=0.00001)\n",
    "\n",
    "# save-checkpoint callback\n",
    "save_checkpoint = mx.do_checkpoint(\"MNIST_CNN3\")\n"
   ]
  },
  {
   "cell_type": "markdown",
   "metadata": {
    "slideshow": {
     "slide_type": "notes"
    }
   },
   "source": [
    "※ GPU が利用可能なら `context=mx.gpu(N)` のようにすることも可能。  \n",
    "※ checkpoint とは、学習の経過（モデルとパラメータ）を随時（指定頻度で）保存する仕組み。後で利用。  \n",
    "　※ ↑実運用的には、`mx.do_checkpoint()` に渡す引数（＝保存ファイルの prefix）は、日時等ユニークかつ管理しやすい名前にしましょう。"
   ]
  },
  {
   "cell_type": "markdown",
   "metadata": {
    "slideshow": {
     "slide_type": "subslide"
    }
   },
   "source": [
    "### 最適化（実施）"
   ]
  },
  {
   "cell_type": "code",
   "execution_count": null,
   "metadata": {
    "collapsed": true
   },
   "outputs": [],
   "source": [
    "# fit parameters\n",
    "mx.fit(\n",
    "    model,\n",
    "    optimizer,\n",
    "    train_provider,\n",
    "    n_epoch=30,\n",
    "    eval_data=eval_provider,\n",
    "    callbacks=[save_checkpoint])"
   ]
  },
  {
   "cell_type": "markdown",
   "metadata": {
    "slideshow": {
     "slide_type": "notes"
    }
   },
   "source": [
    "※ 非常に時間がかかります。"
   ]
  },
  {
   "cell_type": "markdown",
   "metadata": {
    "slideshow": {
     "slide_type": "subslide"
    }
   },
   "source": [
    "出力例："
   ]
  },
  {
   "cell_type": "markdown",
   "metadata": {},
   "source": [
    "![mx.fit 出力例](canvas_classify_sample_CNN_fit.png)"
   ]
  },
  {
   "cell_type": "markdown",
   "metadata": {
    "slideshow": {
     "slide_type": "slide"
    }
   },
   "source": [
    "## チェックポイントの利用"
   ]
  },
  {
   "cell_type": "markdown",
   "metadata": {
    "slideshow": {
     "slide_type": "subslide"
    }
   },
   "source": [
    "### チェックポイントの読込"
   ]
  },
  {
   "cell_type": "markdown",
   "metadata": {},
   "source": [
    "`MNIST_CNN3_TRAINED-symbol.json`、`MNIST_CNN3_TRAINED-0030.params` の2ファイルが作業ディレクトリに存在する前提で："
   ]
  },
  {
   "cell_type": "code",
   "execution_count": 6,
   "metadata": {
    "collapsed": false
   },
   "outputs": [
    {
     "data": {
      "text/plain": [
       "MXNet.mx.FeedForward(MXNet.mx.SymbolicNode(MXNet.mx.MX_SymbolHandle(Ptr{Void} @0x00007fd914624b70)),[CPU0],Dict(:fullyconnected0_weight=>mx.NDArray(1024,1024),:fullyconnected1_weight=>mx.NDArray(1024,10),:convolution0_bias=>mx.NDArray(32,),:convolution1_bias=>mx.NDArray(64,),:convolution0_weight=>mx.NDArray(5,5,1,32),:fullyconnected0_bias=>mx.NDArray(1024,),:convolution1_weight=>mx.NDArray(5,5,32,64),:fullyconnected1_bias=>mx.NDArray(10,)),Dict{Symbol,MXNet.mx.NDArray}(),#undef)"
      ]
     },
     "execution_count": 6,
     "metadata": {},
     "output_type": "execute_result"
    }
   ],
   "source": [
    "model = mx.load_checkpoint(\"MNIST_CNN3_TRAINED\", 30, mx.FeedForward)"
   ]
  },
  {
   "cell_type": "markdown",
   "metadata": {
    "slideshow": {
     "slide_type": "subslide"
    }
   },
   "source": [
    "### 追加学習"
   ]
  },
  {
   "cell_type": "code",
   "execution_count": null,
   "metadata": {
    "collapsed": true
   },
   "outputs": [],
   "source": [
    "# optimization algorithm\n",
    "optimizer = mx.SGD(lr=0.05, momentum=0.9, weight_decay=0.00001)\n",
    "\n",
    "# save-checkpoint callback\n",
    "save_checkpoint = mx.do_checkpoint(\"MNIST_CNN4\")\n",
    "\n",
    "# re-train\n",
    "mx.fit(model, optimizer, train_provider, n_epoch=30, eval_data=eval_provider, callbacks=[save_checkpoint])"
   ]
  },
  {
   "cell_type": "markdown",
   "metadata": {
    "slideshow": {
     "slide_type": "notes"
    }
   },
   "source": [
    "※ 全く同じ記述で学習の続きを実行可能（model のパラメータを再初期化したりはしない）。  \n",
    "※ ただし `mx.do_checkpoint()` に渡す引数を変えないと、既存のチェックポイント保存ファイルを上書きしてしまうので注意！"
   ]
  },
  {
   "cell_type": "markdown",
   "metadata": {
    "slideshow": {
     "slide_type": "subslide"
    }
   },
   "source": [
    "### 学習済データを利用した推測"
   ]
  },
  {
   "cell_type": "code",
   "execution_count": 7,
   "metadata": {
    "collapsed": true,
    "slideshow": {
     "slide_type": "skip"
    }
   },
   "outputs": [],
   "source": [
    "using PyPlot"
   ]
  },
  {
   "cell_type": "code",
   "execution_count": 8,
   "metadata": {
    "collapsed": false,
    "slideshow": {
     "slide_type": "subslide"
    }
   },
   "outputs": [
    {
     "data": {
      "text/plain": [
       "10x3 Array{Float32,2}:\n",
       " 1.28326e-16  2.44316e-27  1.0        \n",
       " 1.76839e-23  2.93116e-20  9.9289e-19 \n",
       " 2.01806e-28  4.03039e-22  2.64561e-14\n",
       " 1.83352e-29  1.0          1.1275e-17 \n",
       " 4.25298e-22  1.64311e-28  5.93604e-14\n",
       " 5.96353e-18  3.57509e-18  5.16321e-17\n",
       " 1.0          1.96176e-27  1.01093e-11\n",
       " 1.08139e-29  3.89275e-20  7.91023e-16\n",
       " 4.93717e-19  1.1657e-21   3.63326e-15\n",
       " 1.09633e-27  5.79972e-21  4.14107e-13"
      ]
     },
     "execution_count": 8,
     "metadata": {},
     "output_type": "execute_result"
    }
   ],
   "source": [
    "batch = first(eval_provider)\n",
    "idxs = rand(1:batch_size, 3)\n",
    "images = copy(mx.get(eval_provider, batch, :data))[:,:,:,idxs]\n",
    "provider = mx.ArrayDataProvider(images)\n",
    "results = mx.predict(model, provider)"
   ]
  },
  {
   "cell_type": "code",
   "execution_count": 9,
   "metadata": {
    "collapsed": false,
    "slideshow": {
     "slide_type": "subslide"
    }
   },
   "outputs": [
    {
     "data": {
      "image/png": "[encoded data removed]",
      "text/plain": [
       "PyPlot.Figure(PyObject <matplotlib.figure.Figure object at 0x329381490>)"
      ]
     },
     "metadata": {},
     "output_type": "display_data"
    }
   ],
   "source": [
    "f, axs = PyPlot.subplots(1, 3, sharey=true, figsize=(10, 3))\n",
    "for i = 1:3\n",
    "    image = reshape(images[:,:,:,i], 28, 28)'\n",
    "    axs[i][:imshow](image, cmap=get_cmap(\"Greys\"))\n",
    "    axs[i][:set_title](\"Classified as: $(indmax(results[:,i])-1)\")\n",
    "end"
   ]
  },
  {
   "cell_type": "markdown",
   "metadata": {
    "slideshow": {
     "slide_type": "slide"
    }
   },
   "source": [
    "## ライブ手書き数字認識"
   ]
  },
  {
   "cell_type": "markdown",
   "metadata": {
    "slideshow": {
     "slide_type": "subslide"
    }
   },
   "source": [
    "《デモ》"
   ]
  },
  {
   "cell_type": "markdown",
   "metadata": {
    "slideshow": {
     "slide_type": "notes"
    }
   },
   "source": [
    "※ Jupyter の機能を利用して、学習済データによる推測と、canvas を利用した手書きデータの認識を実施。"
   ]
  },
  {
   "cell_type": "markdown",
   "metadata": {
    "slideshow": {
     "slide_type": "subslide"
    }
   },
   "source": [
    "実行例："
   ]
  },
  {
   "cell_type": "markdown",
   "metadata": {},
   "source": [
    "![ライブ手書き数字認識 実行例](canvas_classify_sample_CNN3_TRAINED_result.png)"
   ]
  },
  {
   "cell_type": "markdown",
   "metadata": {
    "slideshow": {
     "slide_type": "slide"
    }
   },
   "source": [
    "## 参考"
   ]
  },
  {
   "cell_type": "markdown",
   "metadata": {},
   "source": [
    "+ [dmlc mxnet](https://github.com/dmlc/mxnet)\n",
    "+ [MXNet.jl](https://github.com/dmlc/MXNet.jl)\n",
    "+ [The Julia Language](http://julialang.org/)（本家サイト、英語）\n",
    "+ [Julia - josephmisiti/awesome-machine-learning](https://github.com/josephmisiti/awesome-machine-learning#julia-general-purpose)（Julia の機械学習関連ライブラリのリンクまとめ。英語）"
   ]
  },
  {
   "cell_type": "markdown",
   "metadata": {
    "slideshow": {
     "slide_type": "slide"
    }
   },
   "source": [
    "ご清聴ありがとうございます。"
   ]
  }
 ],
 "metadata": {
  "celltoolbar": "Slideshow",
  "kernelspec": {
   "display_name": "Julia 0.4.5",
   "language": "julia",
   "name": "julia-0.4"
  },
  "language_info": {
   "file_extension": ".jl",
   "mimetype": "application/julia",
   "name": "julia",
   "version": "0.4.5"
  }
 },
 "nbformat": 4,
 "nbformat_minor": 0
}
